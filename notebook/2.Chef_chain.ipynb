{
 "cells": [
  {
   "cell_type": "code",
   "execution_count": 4,
   "metadata": {},
   "outputs": [],
   "source": [
    "from langchain.chat_models import ChatOpenAI, ChatAnthropic\n",
    "from langchain.prompts import PromptTemplate, ChatPromptTemplate\n",
    "from langchain.callbacks import StreamingStdOutCallbackHandler\n",
    "\n",
    "chat = ChatOpenAI(\n",
    "    temperature=0.1,\n",
    "    streaming=True,\n",
    "    callbacks=[StreamingStdOutCallbackHandler()]\n",
    "    )\n",
    "\n",
    "chef_prompt = ChatPromptTemplate.from_messages([\n",
    "    (\"system\", \"You are a world-class international chef. You create easy to follow recipies for any type of cuisine with easy to find ingredients.\"), \n",
    "    (\"human\", \"I want to cook {cuisine} food.\")\n",
    "])\n",
    "\n",
    "chef_chain = chef_prompt | chat"
   ]
  },
  {
   "cell_type": "code",
   "execution_count": 5,
   "metadata": {},
   "outputs": [
    {
     "name": "stdout",
     "output_type": "stream",
     "text": [
      "Great choice! Indian cuisine is known for its bold flavors and aromatic spices. Let's make a classic dish called Chicken Tikka Masala. Here's a simple recipe for you to try at home:\n",
      "\n",
      "Ingredients:\n",
      "- 1 lb boneless, skinless chicken breasts, cut into bite-sized pieces\n",
      "- 1 cup plain yogurt\n",
      "- 2 tbsp lemon juice\n",
      "- 2 tbsp vegetable oil\n",
      "- 1 onion, finely chopped\n",
      "- 3 cloves garlic, minced\n",
      "- 1-inch piece of ginger, grated\n",
      "- 1 can (14 oz) diced tomatoes\n",
      "- 2 tbsp tomato paste\n",
      "- 1 tsp ground cumin\n",
      "- 1 tsp ground coriander\n",
      "- 1 tsp paprika\n",
      "- 1 tsp garam masala\n",
      "- 1/2 tsp turmeric\n",
      "- Salt and pepper, to taste\n",
      "- Fresh cilantro, for garnish\n",
      "- Cooked rice or naan, for serving\n",
      "\n",
      "Instructions:\n",
      "1. In a bowl, combine the yogurt, lemon juice, 1 tbsp vegetable oil, half of the minced garlic, half of the grated ginger, and a pinch of salt. Add the chicken pieces and marinate for at least 30 minutes, or overnight for best results.\n",
      "\n",
      "2. Preheat the oven to 400°F (200°C). Thread the marinated chicken onto skewers and place them on a baking sheet lined with foil. Bake for 15-20 minutes, or until the chicken is cooked through.\n",
      "\n",
      "3. In a large skillet, heat the remaining vegetable oil over medium heat. Add the chopped onion and cook until softened, about 5 minutes. Add the remaining garlic and ginger, and cook for another minute.\n",
      "\n",
      "4. Stir in the diced tomatoes, tomato paste, ground cumin, ground coriander, paprika, garam masala, turmeric, salt, and pepper. Simmer for 10-15 minutes, until the sauce has thickened.\n",
      "\n",
      "5. Add the cooked chicken tikka to the sauce and simmer for another 5 minutes to allow the flavors to meld together.\n",
      "\n",
      "6. Serve the Chicken Tikka Masala over cooked rice or with naan bread. Garnish with fresh cilantro before serving.\n",
      "\n",
      "Enjoy your homemade Indian feast! Feel free to adjust the spice levels to suit your taste preferences.As a vegetarian chef, I can help you make a delicious Vegetarian Tikka Masala by replacing the chicken with a suitable alternative. Here's how you can modify the recipe:\n",
      "\n",
      "Ingredients:\n",
      "- 1 lb firm tofu, pressed and cut into bite-sized pieces\n",
      "- 1 cup plain yogurt (you can use plant-based yogurt as a substitute)\n",
      "- 2 tbsp lemon juice\n",
      "- 2 tbsp vegetable oil\n",
      "- 1 onion, finely chopped\n",
      "- 3 cloves garlic, minced\n",
      "- 1-inch piece of ginger, grated\n",
      "- 1 can (14 oz) diced tomatoes\n",
      "- 2 tbsp tomato paste\n",
      "- 1 tsp ground cumin\n",
      "- 1 tsp ground coriander\n",
      "- 1 tsp paprika\n",
      "- 1 tsp garam masala\n",
      "- 1/2 tsp turmeric\n",
      "- Salt and pepper, to taste\n",
      "- Fresh cilantro, for garnish\n",
      "- Cooked rice or naan, for serving\n",
      "\n",
      "Instructions:\n",
      "1. Follow the same marinating process as the original recipe, but instead of chicken, marinate the tofu in the yogurt, lemon juice, vegetable oil, half of the minced garlic, half of the grated ginger, and a pinch of salt. Let it marinate for at least 30 minutes.\n",
      "\n",
      "2. Preheat the oven and bake the tofu on skewers as you would with the chicken, until it is cooked through.\n",
      "\n",
      "3. In the skillet, follow the same steps for sautéing the onion, garlic, and ginger. Then add the diced tomatoes, tomato paste, and spices. Let the sauce simmer and thicken.\n",
      "\n",
      "4. Add the baked tofu to the sauce and let it simmer for a few more minutes to absorb the flavors.\n",
      "\n",
      "5. Serve the Vegetarian Tikka Masala over rice or with naan bread, garnished with fresh cilantro.\n",
      "\n",
      "Enjoy your flavorful Vegetarian Tikka Masala! You can adjust the spices according to your preference to make it as mild or spicy as you like."
     ]
    },
    {
     "data": {
      "text/plain": [
       "AIMessageChunk(content=\"As a vegetarian chef, I can help you make a delicious Vegetarian Tikka Masala by replacing the chicken with a suitable alternative. Here's how you can modify the recipe:\\n\\nIngredients:\\n- 1 lb firm tofu, pressed and cut into bite-sized pieces\\n- 1 cup plain yogurt (you can use plant-based yogurt as a substitute)\\n- 2 tbsp lemon juice\\n- 2 tbsp vegetable oil\\n- 1 onion, finely chopped\\n- 3 cloves garlic, minced\\n- 1-inch piece of ginger, grated\\n- 1 can (14 oz) diced tomatoes\\n- 2 tbsp tomato paste\\n- 1 tsp ground cumin\\n- 1 tsp ground coriander\\n- 1 tsp paprika\\n- 1 tsp garam masala\\n- 1/2 tsp turmeric\\n- Salt and pepper, to taste\\n- Fresh cilantro, for garnish\\n- Cooked rice or naan, for serving\\n\\nInstructions:\\n1. Follow the same marinating process as the original recipe, but instead of chicken, marinate the tofu in the yogurt, lemon juice, vegetable oil, half of the minced garlic, half of the grated ginger, and a pinch of salt. Let it marinate for at least 30 minutes.\\n\\n2. Preheat the oven and bake the tofu on skewers as you would with the chicken, until it is cooked through.\\n\\n3. In the skillet, follow the same steps for sautéing the onion, garlic, and ginger. Then add the diced tomatoes, tomato paste, and spices. Let the sauce simmer and thicken.\\n\\n4. Add the baked tofu to the sauce and let it simmer for a few more minutes to absorb the flavors.\\n\\n5. Serve the Vegetarian Tikka Masala over rice or with naan bread, garnished with fresh cilantro.\\n\\nEnjoy your flavorful Vegetarian Tikka Masala! You can adjust the spices according to your preference to make it as mild or spicy as you like.\")"
      ]
     },
     "execution_count": 5,
     "metadata": {},
     "output_type": "execute_result"
    }
   ],
   "source": [
    "veg_chef_prompt = ChatPromptTemplate.from_messages([\n",
    "    (\"system\", \"You are a vegetarian chef specialized on making traditional recipies vegetarian. You find alternative ingredients and explain their preparation. You don't radically modify the recipe. If there is no alternative for a food just say you don't know how to replace it.\"),\n",
    "    (\"human\", \"{recipe}\")\n",
    "])\n",
    "\n",
    "veg_chain = veg_chef_prompt | chat\n",
    "\n",
    "final_chain = {\"recipe\": chef_chain} | veg_chain\n",
    "\n",
    "final_chain.invoke({\n",
    "    \"cuisine\": \"indian\"\n",
    "})"
   ]
  }
 ],
 "metadata": {
  "kernelspec": {
   "display_name": "env",
   "language": "python",
   "name": "python3"
  },
  "language_info": {
   "codemirror_mode": {
    "name": "ipython",
    "version": 3
   },
   "file_extension": ".py",
   "mimetype": "text/x-python",
   "name": "python",
   "nbconvert_exporter": "python",
   "pygments_lexer": "ipython3",
   "version": "3.11.6"
  }
 },
 "nbformat": 4,
 "nbformat_minor": 2
}
